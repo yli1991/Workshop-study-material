{
 "cells": [
  {
   "cell_type": "markdown",
   "metadata": {},
   "source": [
    "Survey Link:\n",
    " - https://docs.google.com/forms/d/e/1FAIpQLScpN3Leq765IihESOpakWJgj4MqdtR_jf9GXtlyqrMGA7nYqg/viewform\n",
    " \n",
    "Download this lesson plan:\n",
    " - https://github.com/GTLibraryDataVisualization/Plotly-with-Python-Introduction-Workshop\n",
    " - OR Google: Gt github data visualization\n",
    " \n",
    "Open this lesson plan:\n",
    " - open command prompt -> \"jupyter notebook\"\n",
    "\n",
    "\n",
    "\n",
    "*Lesson Plan for Plotly Lab*\n",
    "\n",
    "What is Python?\n",
    "\n",
    "    Python is a programming language that is easy to learn and reads closer to English than other languages. Identation is VERY important. It is necessary for Python to know \"what comes after what.\"\n",
    "    \n",
    "Basic Types\n",
    "\n",
    "    During this lessson plan we will be using a few different types--\n",
    "        String: a sequence of letters and symbols surrounded by \"\"\n",
    "        Integer: whole number (ex: 5)\n",
    "        float: number with decimal places (ex: 5.3)\n",
    "        Object: a special type that has its own methods we can use.\n",
    "        A method is a series of lines of code that accomplishes some task.\n",
    "        Dataframe: special object imported by the pandas library, allows us\n",
    "        to create a relational way of viewing and manipulating data.\n",
    "        Series/List: simply a list of some form of data.\n",
    "        Dictionary: a series of mappings from one type to another.\n",
    "        \n",
    "What does \"Import\" do?\n",
    "\n",
    "    The import statement gives us functions, objects or a set of objects and functions (known as a\n",
    "    library) that other people created that we would like to use. It saves us from having to write a\n",
    "    bunch of code ourselves. The 'as' keyword lets us address this library as any nickname we give it.\n",
    "    \n",
    "    numpy\n",
    "            Gives us the ability to create a series object, series objects are \n",
    "        what plotly uses to graph.\n",
    "        \n",
    "    plotly\n",
    "            Gives us access to all of the methods we need to create a plotly graph.\n",
    "            \n",
    "    chart_studio.plotly\n",
    "            This gives us easy access to plotly's plotting methods.\n",
    "            \n",
    "    plotly.graph_objs\n",
    "            This is a plotly graph.  we are renaming it for ease later.\n",
    "            \n",
    "    pandas\n",
    "            Gives us the ability to create a dataframe from our CSV files."
   ]
  },
  {
   "cell_type": "markdown",
   "metadata": {},
   "source": [
    "Project Set Up For Personal Device:\n",
    "\n",
    "1.) Install Python3 (python.org)\n",
    "\n",
    "2.) Open command prompt:\n",
    "    - windows: [Shift key]+[Right click] on desktop and click \"Open PowerShell window here.\"\n",
    "    - linux / mac: on desktop, press [CTRL]+[ALT]+[T].\n",
    "\n",
    "3.) Verify installation:\n",
    "    - type \"python --version\" and press enter.\n",
    "    - Installation was a success if it returns \"Python 3.x.x.\"\n",
    "    \n",
    "4.) Install all of the needed libraries with the commands:\n",
    "    - pip install plotly\n",
    "    - pip install numpy\n",
    "    - pip install pandas\n",
    "    - pip install chart_studio\n",
    "    - pip install jupyter\n",
    "    OR\n",
    "    - python -m pip install plotly numpy pandas chart_studio jupyter\n",
    "    \n",
    "5.) Initialize Jupyter Notebook with:\n",
    "    - jupyter notebook\n",
    "    \n",
    "6.) Download project files\n",
    "    - github.com/GTLibraryDataVisualization/Plotly-with-Python-Introduction-Workshop\n",
    "    - Press the green \"Clone or Download\" button and download the project zip file.\n",
    "    - This holds the example data we will be graphing."
   ]
  },
  {
   "cell_type": "markdown",
   "metadata": {},
   "source": [
    "Time to actually get started on the plotting:"
   ]
  },
  {
   "cell_type": "code",
   "execution_count": 1,
   "metadata": {},
   "outputs": [],
   "source": [
    "#setting up the project\n",
    "\n",
    "import numpy as np\n",
    "import chart_studio.plotly as py\n",
    "import plotly.graph_objs as go\n",
    "import chart_studio\n",
    "import pandas as pd"
   ]
  },
  {
   "cell_type": "markdown",
   "metadata": {},
   "source": [
    "Plotly tools set credentials\n",
    "\n",
    "    In order to save our graphs to our specific account, Plotly needs a username and API key.\n",
    "    1) Go to https://plot.ly/\n",
    "    2) Create an account or login.\n",
    "    3) Hover over account name in upper-right and click Settings.\n",
    "    4) Click API keys on the left hand side.\n",
    "    5) Click (re)generate key, and copy that number.\n",
    "    6) Paste that key as well as your username below."
   ]
  },
  {
   "cell_type": "code",
   "execution_count": 2,
   "metadata": {},
   "outputs": [],
   "source": [
    "#replace FAKE_NAME with your Plotly username and FAKE_KEY with the API key you generated\n",
    "user = \"FAKE_NAME\"\n",
    "key = \"FAKE_KEY\"\n",
    "chart_studio.tools.set_credentials_file(username=user, api_key=key)"
   ]
  },
  {
   "cell_type": "code",
   "execution_count": 3,
   "metadata": {},
   "outputs": [],
   "source": [
    "#reading the data\n",
    "\n",
    "csv_file = \"univ_reduced.csv\"\n",
    "df = pd.read_csv(csv_file)\n",
    "#The variable csv_file is going to be a string object that points to the location of our data\n",
    "#the next line asks our pandas library to try to read our CSV file, and turn it into a dataframe.\n",
    "#Once executed, it will be stored in the variable df."
   ]
  },
  {
   "cell_type": "code",
   "execution_count": 4,
   "metadata": {},
   "outputs": [
    {
     "name": "stdout",
     "output_type": "stream",
     "text": [
      "                                                 INSTNM  SAT_AVG_ALL     UGDS  \\\n",
      "0                              Alabama A & M University        850.0   4505.0   \n",
      "1                   University of Alabama at Birmingham       1147.0  11269.0   \n",
      "2                                    Amridge University          NaN    308.0   \n",
      "3                   University of Alabama in Huntsville       1221.0   5829.0   \n",
      "4                              Alabama State University        844.0   4740.0   \n",
      "...                                                 ...          ...      ...   \n",
      "7588  National Personal Training Institute of Cleveland          NaN      NaN   \n",
      "7589  Bay Area Medical Academy - San Jose Satellite ...          NaN      NaN   \n",
      "7590                        High Desert Medical College          NaN      NaN   \n",
      "7591                        Vantage College-San Antonio          NaN      NaN   \n",
      "7592  American Institute of Pharmaceutical Technolog...          NaN      NaN   \n",
      "\n",
      "      UGDS_RICH MD_EARN_WNE_P10  \n",
      "0        0.0340           29900  \n",
      "1        0.5863           40200  \n",
      "2        0.2110           40100  \n",
      "3        0.7024           45600  \n",
      "4        0.0165           26700  \n",
      "...         ...             ...  \n",
      "7588        NaN             NaN  \n",
      "7589        NaN             NaN  \n",
      "7590        NaN             NaN  \n",
      "7591        NaN             NaN  \n",
      "7592        NaN             NaN  \n",
      "\n",
      "[7593 rows x 5 columns]\n"
     ]
    }
   ],
   "source": [
    "print(df)\n",
    "#The print statement is used to see our data.\n",
    "#Notice there are over 7500 rows."
   ]
  },
  {
   "cell_type": "code",
   "execution_count": 5,
   "metadata": {},
   "outputs": [
    {
     "name": "stdout",
     "output_type": "stream",
     "text": [
      "                                                INSTNM  SAT_AVG_ALL     UGDS  \\\n",
      "0                             Alabama A & M University        850.0   4505.0   \n",
      "1                  University of Alabama at Birmingham       1147.0  11269.0   \n",
      "3                  University of Alabama in Huntsville       1221.0   5829.0   \n",
      "4                             Alabama State University        844.0   4740.0   \n",
      "5                            The University of Alabama       1181.0  31005.0   \n",
      "...                                                ...          ...      ...   \n",
      "7424   Purdue University - Purdue Polytechnic Columbus       1231.0      NaN   \n",
      "7425     Purdue University - Purdue Polytechnic Kokomo       1231.0      NaN   \n",
      "7426   Purdue University - Purdue Polytechnic Richmond       1231.0      NaN   \n",
      "7427  Purdue University - Purdue Polytechnic Lafayette       1231.0      NaN   \n",
      "7428  Purdue University - Purdue Polytechnic Vincennes       1231.0      NaN   \n",
      "\n",
      "      UGDS_RICH MD_EARN_WNE_P10  \n",
      "0        0.0340           29900  \n",
      "1        0.5863           40200  \n",
      "3        0.7024           45600  \n",
      "4        0.0165           26700  \n",
      "5        0.7807           42700  \n",
      "...         ...             ...  \n",
      "7424        NaN             NaN  \n",
      "7425        NaN             NaN  \n",
      "7426        NaN             NaN  \n",
      "7427        NaN             NaN  \n",
      "7428        NaN             NaN  \n",
      "\n",
      "[1398 rows x 5 columns]\n",
      "                                                 INSTNM  SAT_AVG_ALL     UGDS  \\\n",
      "0                              Alabama A & M University        850.0   4505.0   \n",
      "1                   University of Alabama at Birmingham       1147.0  11269.0   \n",
      "3                   University of Alabama in Huntsville       1221.0   5829.0   \n",
      "4                              Alabama State University        844.0   4740.0   \n",
      "5                             The University of Alabama       1181.0  31005.0   \n",
      "...                                                 ...          ...      ...   \n",
      "6820                                 Augusta University       1045.0   4773.0   \n",
      "6821                    Middle Georgia State University        864.0   7225.0   \n",
      "6866                        University of North Georgia       1013.0  16048.0   \n",
      "6868  Northeastern University Professional Advanceme...       1435.0   2051.0   \n",
      "6880                   Arizona State University-Skysong       1143.0  16219.0   \n",
      "\n",
      "      UGDS_RICH MD_EARN_WNE_P10  \n",
      "0        0.0340           29900  \n",
      "1        0.5863           40200  \n",
      "3        0.7024           45600  \n",
      "4        0.0165           26700  \n",
      "5        0.7807           42700  \n",
      "...         ...             ...  \n",
      "6820     0.5431           58500  \n",
      "6821     0.5372           32400  \n",
      "6866     0.7651           40600  \n",
      "6868     0.4227           64000  \n",
      "6880     0.6391           45400  \n",
      "\n",
      "[1307 rows x 5 columns]\n"
     ]
    }
   ],
   "source": [
    "###cleaning up the data###\n",
    "\n",
    "#Notice we have a lot of Nan values. Plotly cannot graph those, so we need to get rid of them.\n",
    "#We do this by indexing into our dataframe using [], select the column we want to filter, \n",
    "#and then only keeping every row that has a non-null value for that column entry.\n",
    "\n",
    "df = df[df.SAT_AVG_ALL.notnull()]\n",
    "print(df)\n",
    "df = df[df.INSTNM.notnull()]\n",
    "df = df[df.UGDS_RICH.notnull()]\n",
    "df = df[df.MD_EARN_WNE_P10.notnull()]\n",
    "\n",
    "#There are also some \"PrivacySupressed\" values in the salary column. Since this is also not a number,\n",
    "#we want to remove all rows that contain that value as well.\n",
    "\n",
    "df = df[~df.MD_EARN_WNE_P10.str.contains('PrivacySuppressed')]\n",
    "\n",
    "#Print the updated and cleaned dataframe.\n",
    "print(df)\n",
    "#Notice the drop from ~7500 rows to now ~1300 rows.\n",
    "#The rest contained data we could not graph."
   ]
  },
  {
   "cell_type": "markdown",
   "metadata": {},
   "source": [
    "The following code extracts the columns from our dataframe and give us arrays that we can use to graph. We need to do this because plotly works with *series* types (such as arrays) and not panda data structures. To get the names out of our list, we look into our dataframe for the column we want, and call .values. This simply gives us back the values that were in that column as an array. We want to know our university names, their average SAT, their starting salaries, and the percentage of rich students."
   ]
  },
  {
   "cell_type": "code",
   "execution_count": 6,
   "metadata": {},
   "outputs": [],
   "source": [
    "#extracting data values\n",
    "\n",
    "name = df['INSTNM'].values\n",
    "sat_average = df['SAT_AVG_ALL'].values\n",
    "salary = df['MD_EARN_WNE_P10'].values\n",
    "percentage_rich = df['UGDS_RICH'].values"
   ]
  },
  {
   "cell_type": "markdown",
   "metadata": {},
   "source": [
    "Calling go.scatter3d is going to help us create a 3D scatter plot object containing all our points.\n",
    "\n",
    "***IN ORDER TO GRAPH OUR DATA WE NEED TWO THINGS: 1) A DATA SET AND 2) A LAYOUT.***\n",
    "- The Data set is \"what\" we are going to show.\n",
    "- The Layout is \"how\" we are going to show it.\n",
    "\n",
    "*Let's start with the data set:*\n",
    "\n",
    "We want:\n",
    "    - x axis to equal SAT averages (x = sat_average).\n",
    "    - y axis to equal starting salary (y = salary).\n",
    "    - z axis to equal percentage rich (z = percentage_rich).\n",
    "    - when hovering over a point, to display corresponding school name (text = name).\n",
    "    - our data points to be displayed as markers / dots (mode = \"markers\").\n",
    "\n",
    "Now we want to control what our dots look like. Do this by passing in a tuple (static array) of information\n",
    "    (marker = dict(.......)).\n",
    "\n",
    "    The size of each dot is 4 (size = 4).\n",
    "    The color will correspond to the percentage of rich students (color = percentage_rich).\n",
    "    Plotly has premade colorscales so for this example we will use \"Viridis\" (colorscale = 'Viridis').\n",
    "    Opacity is how transparent our dots we will be (0 is invisible, 1 is solid). We will set this to .8 (opacity = 0.8).\n",
    "    \n",
    "Think of a \"trace\" as a big grouping of all of the data needed to draw a graph. Plotly can support many of these \"traces\" simultaneously, so it likes to receive a list of traces. For this demonstration, we will use a list of size one to hold our single trace, trace1."
   ]
  },
  {
   "cell_type": "code",
   "execution_count": 7,
   "metadata": {},
   "outputs": [],
   "source": [
    "#preparing data for plotly\n",
    "\n",
    "trace1 = go.Scatter3d(\n",
    "    x=sat_average,\n",
    "    y=salary,\n",
    "    z=percentage_rich,\n",
    "    text=name,\n",
    "    mode='markers',\n",
    "    marker=dict(\n",
    "        size=4,\n",
    "        color=percentage_rich, # set color to an array/list of desired values\n",
    "        colorscale='Viridis',   # choose a colorscale\n",
    "        opacity=0.8\n",
    "    )\n",
    ")\n",
    "my_data = [trace1]"
   ]
  },
  {
   "cell_type": "markdown",
   "metadata": {},
   "source": [
    "Next we want to define the layout of our graph\n",
    "\n",
    "    We want the title of our graph to simply be \"univeristy data\" (title = 'University Data').\n",
    "    To label our axis, we must first create a \"scene.\" Inside this scene, we pass in a tuple of info, including\n",
    "    xaxis, yaxis, and zaxis. Then each of those get their own tuple of info to describe themselves in detail\n",
    "    scene=dict(xaxis=dict(......), yaxis=dict(.....), zaxis=dict(.....)).\n",
    "    \n",
    "    Let us set our x axis label to SAT average, y to average salary, and z to percentage rich."
   ]
  },
  {
   "cell_type": "code",
   "execution_count": 8,
   "metadata": {},
   "outputs": [],
   "source": [
    "my_layout = go.Layout(\n",
    "    title='University Data',\n",
    "    scene=dict(\n",
    "        xaxis=dict(\n",
    "            title='SAT Average'\n",
    "        ),\n",
    "        yaxis=dict(\n",
    "            title='Average Salary'\n",
    "        ),\n",
    "        zaxis=dict(\n",
    "            title='Percentage Rich'\n",
    "        )\n",
    "    )\n",
    ")"
   ]
  },
  {
   "cell_type": "markdown",
   "metadata": {},
   "source": [
    "Once we have all of that, we can actually plot the graph\n",
    "\n",
    "        First we have to create a completed figure to graph. Plotly will do this automatically for us. All it needs to know is the data we want to plot and the layout. So we specify that the data it should use is my_data, and the layout it should use is my_layout. Finally, in order to display the graph, we call py.plot or py.iplot, specify the figure we want to plot, and what we want to save our graph as.\n",
    "        \n",
    "        IMPORTANT if using a text editor use py.plot, iplot is only for jupyter notebook."
   ]
  },
  {
   "cell_type": "code",
   "execution_count": null,
   "metadata": {},
   "outputs": [],
   "source": [
    "fig = go.Figure(data=my_data, layout=my_layout)\n",
    "py.iplot(fig, filename='univ_vis') #if using a text editor call py.plot(fig, filename='univ_vis')"
   ]
  },
  {
   "cell_type": "code",
   "execution_count": null,
   "metadata": {},
   "outputs": [],
   "source": []
  }
 ],
 "metadata": {
  "kernelspec": {
   "display_name": "Python 3",
   "language": "python",
   "name": "python3"
  },
  "language_info": {
   "codemirror_mode": {
    "name": "ipython",
    "version": 3
   },
   "file_extension": ".py",
   "mimetype": "text/x-python",
   "name": "python",
   "nbconvert_exporter": "python",
   "pygments_lexer": "ipython3",
   "version": "3.7.3"
  }
 },
 "nbformat": 4,
 "nbformat_minor": 2
}
